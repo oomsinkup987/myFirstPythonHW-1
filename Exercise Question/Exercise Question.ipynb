{
 "cells": [
  {
   "cell_type": "markdown",
   "metadata": {},
   "source": [
    "### Exercise Question 1 : Given a two list. Create a third list by picking an odd-index element from the first list and even index element from second."
   ]
  },
  {
   "cell_type": "code",
   "execution_count": 28,
   "metadata": {},
   "outputs": [
    {
     "name": "stdout",
     "output_type": "stream",
     "text": [
      "Element at odd-index positions from list one\n",
      "[6, 12, 18]\n",
      "Element at even-index position from list two\n",
      "[4, 12, 20, 28]\n",
      "Printing final third list\n",
      "[6, 12, 18, 4, 12, 20, 28]\n"
     ]
    }
   ],
   "source": [
    "listOne = [3, 6, 9, 12, 15, 18, 21]\n",
    "listTwo = [4, 8, 12, 16, 20, 24, 28]\n",
    "listThree,listThree_1,listThree_2  = [],[],[]\n",
    "\n",
    "print(\"Element at odd-index positions from list one\")\n",
    "for i in range(1,len(listOne)):\n",
    "    if i % 2 == 0 :\n",
    "        listThree_1.append(listOne[i-1])\n",
    "print(listThree_1)\n",
    "\n",
    "print(\"Element at even-index position from list two\")\n",
    "for i in range(1,len(listTwo)+1):\n",
    "    if i % 2 != 0 :\n",
    "        listThree_2.append(listTwo[i-1])\n",
    "print(listThree_2)\n",
    "\n",
    "print(\"Printing final third list\")\n",
    "listThree = [i for i in listThree_1]\n",
    "listThree += [i for i in listThree_2]\n",
    "print(listThree)"
   ]
  },
  {
   "cell_type": "markdown",
   "metadata": {},
   "source": [
    "### Exercies Question  2 : Given an input list removes the element at index 4 and add it to the 2nd position and also,at the end of the list"
   ]
  },
  {
   "cell_type": "code",
   "execution_count": 38,
   "metadata": {},
   "outputs": [
    {
     "name": "stdout",
     "output_type": "stream",
     "text": [
      "Original list  [34, 54, 67, 89, 11, 43, 94]\n",
      "List After removing element at index 4  [34, 54, 67, 89, 43, 94]\n",
      "List After Adding element at index 2  [34, 54, 11, 67, 89, 43, 94]\n",
      "List After Adding element at lst  [34, 54, 11, 67, 89, 43, 94, 11]\n"
     ]
    }
   ],
   "source": [
    "List = [34, 54, 67, 89, 11, 43, 94]\n",
    "print(\"Original list \",List)\n",
    "\n",
    "tmp = List[4]\n",
    "List.remove(tmp)\n",
    "print('List After removing element at index 4 ',List)\n",
    "List.insert(2,tmp)\n",
    "print('List After Adding element at index 2 ',List)\n",
    "List.append(tmp)\n",
    "print('List After Adding element at lst ',List)"
   ]
  },
  {
   "cell_type": "markdown",
   "metadata": {},
   "source": [
    "### Exercise Question 3 : Given a list  slice it into a 3 equal chunks and reverse each list "
   ]
  },
  {
   "cell_type": "code",
   "execution_count": 74,
   "metadata": {},
   "outputs": [
    {
     "name": "stdout",
     "output_type": "stream",
     "text": [
      "Original list [11, 45, 8, 23, 14, 12, 78, 45, 89]\n",
      "Chunk 1 [11, 45, 8]\n",
      "After reversing it [8, 45, 11]\n",
      "Chunk 2 [23, 14, 12]\n",
      "After reversing it [12, 14, 23]\n",
      "Chunk 3 [78, 45, 89]\n",
      "After reversing it [89, 45, 78]\n"
     ]
    }
   ],
   "source": [
    "sampleList = [11, 45, 8, 23, 14, 12, 78, 45, 89]\n",
    "print(\"Original list\",sampleList)\n",
    "i,n,tmp = 1,2,[]\n",
    "while sampleList != [] :\n",
    "    tmp = sampleList[:3]\n",
    "    sampleList = sampleList[n+1:]\n",
    "    print('Chunk', i,tmp)\n",
    "    tmp.reverse()\n",
    "    print('After reversing it',tmp)\n",
    "    i+=1"
   ]
  },
  {
   "cell_type": "markdown",
   "metadata": {},
   "source": [
    "### Exercise Question 4 : Given a list iterate it and count the occurrence of each element and create a dictionary to show the count of each element "
   ]
  },
  {
   "cell_type": "code",
   "execution_count": 101,
   "metadata": {},
   "outputs": [
    {
     "name": "stdout",
     "output_type": "stream",
     "text": [
      "Original list [11, 45, 8, 11, 23, 45, 23, 45, 89]\n",
      "Printing count of each item {11: 2, 45: 3, 8: 1, 23: 2, 89: 1}\n"
     ]
    }
   ],
   "source": [
    "List = [11, 45, 8, 11, 23, 45, 23, 45, 89]\n",
    "print(\"Original list\",List)\n",
    "dis = {}\n",
    "while List != [] :\n",
    "    count = [i for i in List if i ==  List[0]]\n",
    "    dis.update({List[0]:len(count)})\n",
    "    tmp = List[0]\n",
    "    for i in range(len(count)) :\n",
    "        List.remove(tmp)\n",
    "        \n",
    "\n",
    "print(\"Printing count of each item\",dis)"
   ]
  },
  {
   "cell_type": "code",
   "execution_count": null,
   "metadata": {},
   "outputs": [],
   "source": []
  }
 ],
 "metadata": {
  "kernelspec": {
   "display_name": "Python 3",
   "language": "python",
   "name": "python3"
  },
  "language_info": {
   "codemirror_mode": {
    "name": "ipython",
    "version": 3
   },
   "file_extension": ".py",
   "mimetype": "text/x-python",
   "name": "python",
   "nbconvert_exporter": "python",
   "pygments_lexer": "ipython3",
   "version": "3.8.3"
  }
 },
 "nbformat": 4,
 "nbformat_minor": 4
}
